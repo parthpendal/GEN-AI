{
 "cells": [
  {
   "cell_type": "code",
   "execution_count": 1,
   "id": "2396e284",
   "metadata": {},
   "outputs": [
    {
     "name": "stdout",
     "output_type": "stream",
     "text": [
      "Collecting transformers\n",
      "  Downloading transformers-4.47.1-py3-none-any.whl (10.1 MB)\n",
      "Requirement already satisfied: Pillow in c:\\users\\parth\\anaconda3\\lib\\site-packages (8.4.0)\n",
      "Collecting torch\n",
      "  Downloading torch-2.5.1-cp39-cp39-win_amd64.whl (203.0 MB)\n",
      "Collecting torchvision\n",
      "  Downloading torchvision-0.20.1-cp39-cp39-win_amd64.whl (1.6 MB)\n",
      "Collecting torchaudio\n",
      "  Downloading torchaudio-2.5.1-cp39-cp39-win_amd64.whl (2.4 MB)\n",
      "Requirement already satisfied: requests in c:\\users\\parth\\anaconda3\\lib\\site-packages (from transformers) (2.26.0)\n",
      "Requirement already satisfied: tqdm>=4.27 in c:\\users\\parth\\anaconda3\\lib\\site-packages (from transformers) (4.62.3)\n",
      "Requirement already satisfied: filelock in c:\\users\\parth\\anaconda3\\lib\\site-packages (from transformers) (3.3.1)\n",
      "Requirement already satisfied: numpy>=1.17 in c:\\users\\parth\\anaconda3\\lib\\site-packages (from transformers) (1.25.2)\n",
      "Collecting safetensors>=0.4.1\n",
      "  Downloading safetensors-0.5.0-cp38-abi3-win_amd64.whl (303 kB)\n",
      "Requirement already satisfied: regex!=2019.12.17 in c:\\users\\parth\\anaconda3\\lib\\site-packages (from transformers) (2021.8.3)\n",
      "Requirement already satisfied: packaging>=20.0 in c:\\users\\parth\\anaconda3\\lib\\site-packages (from transformers) (23.2)\n",
      "Requirement already satisfied: pyyaml>=5.1 in c:\\users\\parth\\anaconda3\\lib\\site-packages (from transformers) (6.0)\n",
      "Collecting huggingface-hub<1.0,>=0.24.0\n",
      "  Downloading huggingface_hub-0.27.0-py3-none-any.whl (450 kB)\n",
      "Collecting tokenizers<0.22,>=0.21\n",
      "  Downloading tokenizers-0.21.0-cp39-abi3-win_amd64.whl (2.4 MB)\n",
      "Requirement already satisfied: fsspec in c:\\users\\parth\\anaconda3\\lib\\site-packages (from torch) (2021.10.1)\n",
      "Requirement already satisfied: networkx in c:\\users\\parth\\anaconda3\\lib\\site-packages (from torch) (2.6.3)\n",
      "Collecting sympy==1.13.1\n",
      "  Downloading sympy-1.13.1-py3-none-any.whl (6.2 MB)\n",
      "Requirement already satisfied: jinja2 in c:\\users\\parth\\anaconda3\\lib\\site-packages (from torch) (2.11.3)\n",
      "Requirement already satisfied: typing-extensions>=4.8.0 in c:\\users\\parth\\anaconda3\\lib\\site-packages (from torch) (4.11.0)\n",
      "Requirement already satisfied: mpmath<1.4,>=1.1.0 in c:\\users\\parth\\anaconda3\\lib\\site-packages (from sympy==1.13.1->torch) (1.2.1)\n",
      "Collecting fsspec\n",
      "  Downloading fsspec-2024.12.0-py3-none-any.whl (183 kB)\n",
      "Requirement already satisfied: colorama in c:\\users\\parth\\anaconda3\\lib\\site-packages (from tqdm>=4.27->transformers) (0.4.4)\n",
      "Requirement already satisfied: MarkupSafe>=0.23 in c:\\users\\parth\\anaconda3\\lib\\site-packages (from jinja2->torch) (1.1.1)\n",
      "Requirement already satisfied: urllib3<1.27,>=1.21.1 in c:\\users\\parth\\anaconda3\\lib\\site-packages (from requests->transformers) (1.26.7)\n",
      "Requirement already satisfied: certifi>=2017.4.17 in c:\\users\\parth\\anaconda3\\lib\\site-packages (from requests->transformers) (2021.10.8)\n",
      "Requirement already satisfied: charset-normalizer~=2.0.0 in c:\\users\\parth\\anaconda3\\lib\\site-packages (from requests->transformers) (2.0.4)\n",
      "Requirement already satisfied: idna<4,>=2.5 in c:\\users\\parth\\anaconda3\\lib\\site-packages (from requests->transformers) (3.2)\n",
      "Installing collected packages: fsspec, sympy, huggingface-hub, torch, tokenizers, safetensors, transformers, torchvision, torchaudio\n",
      "  Attempting uninstall: fsspec\n",
      "    Found existing installation: fsspec 2021.10.1\n",
      "    Uninstalling fsspec-2021.10.1:\n",
      "      Successfully uninstalled fsspec-2021.10.1\n",
      "  Attempting uninstall: sympy\n",
      "    Found existing installation: sympy 1.9\n",
      "    Uninstalling sympy-1.9:\n",
      "      Successfully uninstalled sympy-1.9\n",
      "Successfully installed fsspec-2024.12.0 huggingface-hub-0.27.0 safetensors-0.5.0 sympy-1.13.1 tokenizers-0.21.0 torch-2.5.1 torchaudio-2.5.1 torchvision-0.20.1 transformers-4.47.1\n"
     ]
    }
   ],
   "source": [
    "#install transformer library\n",
    "!pip install transformers Pillow torch torchvision torchaudio"
   ]
  },
  {
   "cell_type": "code",
   "execution_count": 3,
   "id": "c50203ee",
   "metadata": {},
   "outputs": [
    {
     "name": "stderr",
     "output_type": "stream",
     "text": [
      "C:\\Users\\parth\\anaconda3\\lib\\site-packages\\scipy\\__init__.py:146: UserWarning: A NumPy version >=1.16.5 and <1.23.0 is required for this version of SciPy (detected version 1.25.2\n",
      "  warnings.warn(f\"A NumPy version >={np_minversion} and <{np_maxversion}\"\n"
     ]
    }
   ],
   "source": [
    "from transformers import BlipProcessor, BlipForConditionalGeneration"
   ]
  },
  {
   "cell_type": "code",
   "execution_count": 5,
   "id": "9f43f7b2",
   "metadata": {},
   "outputs": [],
   "source": [
    "from PIL import Image"
   ]
  },
  {
   "cell_type": "code",
   "execution_count": 7,
   "id": "3c27c93f",
   "metadata": {},
   "outputs": [
    {
     "data": {
      "application/vnd.jupyter.widget-view+json": {
       "model_id": "f5aff5182e6e4dab9b348e94d09de1b5",
       "version_major": 2,
       "version_minor": 0
      },
      "text/plain": [
       "preprocessor_config.json:   0%|          | 0.00/287 [00:00<?, ?B/s]"
      ]
     },
     "metadata": {},
     "output_type": "display_data"
    },
    {
     "name": "stderr",
     "output_type": "stream",
     "text": [
      "C:\\Users\\parth\\anaconda3\\lib\\site-packages\\huggingface_hub\\file_download.py:140: UserWarning: `huggingface_hub` cache-system uses symlinks by default to efficiently store duplicated files but your machine does not support them in C:\\Users\\parth\\.cache\\huggingface\\hub\\models--Salesforce--blip-image-captioning-base. Caching files will still work but in a degraded version that might require more space on your disk. This warning can be disabled by setting the `HF_HUB_DISABLE_SYMLINKS_WARNING` environment variable. For more details, see https://huggingface.co/docs/huggingface_hub/how-to-cache#limitations.\n",
      "To support symlinks on Windows, you either need to activate Developer Mode or to run Python as an administrator. In order to activate developer mode, see this article: https://docs.microsoft.com/en-us/windows/apps/get-started/enable-your-device-for-development\n",
      "  warnings.warn(message)\n"
     ]
    },
    {
     "data": {
      "application/vnd.jupyter.widget-view+json": {
       "model_id": "3bf76e36172446818a5f3c8757fc0f1b",
       "version_major": 2,
       "version_minor": 0
      },
      "text/plain": [
       "tokenizer_config.json:   0%|          | 0.00/506 [00:00<?, ?B/s]"
      ]
     },
     "metadata": {},
     "output_type": "display_data"
    },
    {
     "data": {
      "application/vnd.jupyter.widget-view+json": {
       "model_id": "18fec54d29704eb799f47619b867eede",
       "version_major": 2,
       "version_minor": 0
      },
      "text/plain": [
       "vocab.txt:   0%|          | 0.00/232k [00:00<?, ?B/s]"
      ]
     },
     "metadata": {},
     "output_type": "display_data"
    },
    {
     "data": {
      "application/vnd.jupyter.widget-view+json": {
       "model_id": "76be21c42292464fa9c2e61b2b38cd10",
       "version_major": 2,
       "version_minor": 0
      },
      "text/plain": [
       "tokenizer.json:   0%|          | 0.00/711k [00:00<?, ?B/s]"
      ]
     },
     "metadata": {},
     "output_type": "display_data"
    },
    {
     "data": {
      "application/vnd.jupyter.widget-view+json": {
       "model_id": "9e255030c7e94d75b0c12642c01d39af",
       "version_major": 2,
       "version_minor": 0
      },
      "text/plain": [
       "special_tokens_map.json:   0%|          | 0.00/125 [00:00<?, ?B/s]"
      ]
     },
     "metadata": {},
     "output_type": "display_data"
    }
   ],
   "source": [
    "#Initialize processor and model from Hugging Face\n",
    "#In Hugging Face, a \"processor\" is a tool used to prepare input data (like text, images, or audio) into a format that a model can understand, essentially pre-processing the data before feeding it to the model, while a \"model\" refers to the core machine learning architecture itself, which performs the actual prediction or analysis on the processed data provided by the processor; essentially, the processor is the data preparation step and the model is the computation engine\n",
    "processor =BlipProcessor.from_pretrained(\"Salesforce/blip-image-captioning-base\")"
   ]
  },
  {
   "cell_type": "code",
   "execution_count": 8,
   "id": "ac408a61",
   "metadata": {},
   "outputs": [
    {
     "data": {
      "application/vnd.jupyter.widget-view+json": {
       "model_id": "e440cff82cc44e869efb66535bfc7369",
       "version_major": 2,
       "version_minor": 0
      },
      "text/plain": [
       "config.json:   0%|          | 0.00/4.56k [00:00<?, ?B/s]"
      ]
     },
     "metadata": {},
     "output_type": "display_data"
    },
    {
     "data": {
      "application/vnd.jupyter.widget-view+json": {
       "model_id": "790ae83f82144e65a85902288ad827ca",
       "version_major": 2,
       "version_minor": 0
      },
      "text/plain": [
       "pytorch_model.bin:   0%|          | 0.00/990M [00:00<?, ?B/s]"
      ]
     },
     "metadata": {},
     "output_type": "display_data"
    }
   ],
   "source": [
    "model=BlipForConditionalGeneration.from_pretrained(\"Salesforce/blip-image-captioning-base\")"
   ]
  },
  {
   "cell_type": "code",
   "execution_count": 18,
   "id": "0e67e812",
   "metadata": {},
   "outputs": [],
   "source": [
    "image = Image.open(\"C:\\\\Users\\\\parth\\\\OneDrive\\\\Desktop\\\\Untitled.jpg\")"
   ]
  },
  {
   "cell_type": "code",
   "execution_count": 19,
   "id": "0257b581",
   "metadata": {},
   "outputs": [],
   "source": [
    "#Prepare the image\n",
    "inputs=processor(image, return_tensors=\"pt\")"
   ]
  },
  {
   "cell_type": "code",
   "execution_count": 20,
   "id": "920ee3d6",
   "metadata": {},
   "outputs": [
    {
     "data": {
      "text/plain": [
       "{'pixel_values': tensor([[[[-0.5806, -0.5806, -0.8726,  ..., -1.4419, -1.3397, -1.2375],\n",
       "          [-0.5806, -0.6098, -0.9164,  ..., -1.3981, -1.3397, -1.2813],\n",
       "          [-0.6098, -0.6828, -1.0039,  ..., -1.3105, -1.3397, -1.3835],\n",
       "          ...,\n",
       "          [ 0.7625,  0.8063,  0.8792,  ...,  0.8501,  0.8501,  0.8501],\n",
       "          [ 0.7333,  0.7771,  0.8501,  ...,  0.8063,  0.8063,  0.8063],\n",
       "          [ 0.7187,  0.7625,  0.8501,  ...,  0.7771,  0.7771,  0.7771]],\n",
       "\n",
       "         [[ 0.5441,  0.5291,  0.1989,  ..., -1.4669, -1.3619, -1.2568],\n",
       "          [ 0.5291,  0.4991,  0.1539,  ..., -1.4219, -1.3619, -1.3019],\n",
       "          [ 0.5141,  0.4240,  0.0638,  ..., -1.3169, -1.3619, -1.4069],\n",
       "          ...,\n",
       "          [ 0.7842,  0.8292,  0.9043,  ...,  0.8442,  0.8442,  0.8442],\n",
       "          [ 0.7542,  0.7992,  0.8743,  ...,  0.7842,  0.7842,  0.7842],\n",
       "          [ 0.7392,  0.7842,  0.8743,  ...,  0.7542,  0.7542,  0.7542]],\n",
       "\n",
       "         [[ 1.2500,  1.2358,  0.9230,  ..., -1.2669, -1.1674, -1.0678],\n",
       "          [ 1.2358,  1.2074,  0.8803,  ..., -1.2243, -1.1674, -1.1105],\n",
       "          [ 1.2216,  1.1363,  0.8092,  ..., -1.1532, -1.1958, -1.2385],\n",
       "          ...,\n",
       "          [ 0.7523,  0.7950,  0.8661,  ...,  0.7523,  0.7523,  0.7523],\n",
       "          [ 0.7239,  0.7666,  0.8377,  ...,  0.7097,  0.7097,  0.7097],\n",
       "          [ 0.7097,  0.7523,  0.8377,  ...,  0.6812,  0.6812,  0.6812]]]])}"
      ]
     },
     "execution_count": 20,
     "metadata": {},
     "output_type": "execute_result"
    }
   ],
   "source": [
    "inputs"
   ]
  },
  {
   "cell_type": "code",
   "execution_count": 21,
   "id": "49d65893",
   "metadata": {},
   "outputs": [],
   "source": [
    "# Generate captions\n",
    "outputs=model.generate(**inputs)"
   ]
  },
  {
   "cell_type": "code",
   "execution_count": 22,
   "id": "327bf01e",
   "metadata": {},
   "outputs": [
    {
     "data": {
      "text/plain": [
       "tensor([[30522,  1037,  2158,  3788,  2091,  1037, 11996,   102]])"
      ]
     },
     "execution_count": 22,
     "metadata": {},
     "output_type": "execute_result"
    }
   ],
   "source": [
    "outputs"
   ]
  },
  {
   "cell_type": "code",
   "execution_count": 23,
   "id": "5a55fa9a",
   "metadata": {},
   "outputs": [],
   "source": [
    "#Skip special tokens: When decoding the generated tokens, skip special tokens from being converted to their text representation. Otherwise, BOS appears as <s> , EOS as </s> , etc.\n",
    "caption = processor.decode(outputs[0],skip_special_tokens=True)"
   ]
  },
  {
   "cell_type": "code",
   "execution_count": 24,
   "id": "5d1210e2",
   "metadata": {},
   "outputs": [
    {
     "name": "stdout",
     "output_type": "stream",
     "text": [
      "Generated Caption: a man walking down a sidewalk\n"
     ]
    }
   ],
   "source": [
    "print(\"Generated Caption:\", caption)"
   ]
  },
  {
   "cell_type": "code",
   "execution_count": null,
   "id": "f2ef4333",
   "metadata": {},
   "outputs": [],
   "source": []
  }
 ],
 "metadata": {
  "kernelspec": {
   "display_name": "Python 3 (ipykernel)",
   "language": "python",
   "name": "python3"
  },
  "language_info": {
   "codemirror_mode": {
    "name": "ipython",
    "version": 3
   },
   "file_extension": ".py",
   "mimetype": "text/x-python",
   "name": "python",
   "nbconvert_exporter": "python",
   "pygments_lexer": "ipython3",
   "version": "3.9.7"
  }
 },
 "nbformat": 4,
 "nbformat_minor": 5
}
